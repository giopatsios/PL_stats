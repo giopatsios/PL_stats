{
 "cells": [
  {
   "cell_type": "markdown",
   "id": "f5f553b4-8b28-491e-bda8-5c2fac3675e3",
   "metadata": {
    "tags": []
   },
   "source": [
    "# Web Scraping Football Matches From The EPL in Python"
   ]
  },
  {
   "cell_type": "code",
   "execution_count": 2,
   "id": "af9758ea-3e1e-458f-9583-07b00609ae39",
   "metadata": {
    "tags": []
   },
   "outputs": [],
   "source": [
    "import requests\n",
    "import os\n",
    "import shutil"
   ]
  },
  {
   "cell_type": "code",
   "execution_count": 3,
   "id": "feb27b40-7d10-4ac3-a186-c7e2eb0d666e",
   "metadata": {
    "tags": []
   },
   "outputs": [],
   "source": [
    "years = list(range(1991,2022))"
   ]
  },
  {
   "cell_type": "code",
   "execution_count": 8,
   "id": "ba26e0ef-5b4c-46d2-9ad5-e58463fd889a",
   "metadata": {
    "tags": []
   },
   "outputs": [],
   "source": [
    "# ULR of the page\n",
    "standings_url = \"https://fbref.com/en/comps/9/Premier-League-Stats\"\n",
    "\n",
    "data = requests.get(standings_url)"
   ]
  },
  {
   "cell_type": "code",
   "execution_count": 6,
   "id": "dc438462-630a-4c4c-bb68-28c11a78d193",
   "metadata": {
    "tags": []
   },
   "outputs": [],
   "source": [
    "from bs4 import BeautifulSoup\n"
   ]
  },
  {
   "cell_type": "code",
   "execution_count": 9,
   "id": "db7dba30-d116-4b22-b1bc-0e423f758b13",
   "metadata": {
    "tags": []
   },
   "outputs": [],
   "source": [
    "soup = BeautifulSoup(data.text)\n",
    "standings_table = soup.select('table.stats_table')[0]\n",
    "links = standings_table.find_all('a')\n",
    "links = [l.get(\"href\") for l in links]\n",
    "links = [l for l in links if '/squads/' in l]"
   ]
  },
  {
   "cell_type": "code",
   "execution_count": null,
   "id": "867b2cd1-8f73-4601-9b92-e4cf5cfd9952",
   "metadata": {},
   "outputs": [],
   "source": []
  },
  {
   "cell_type": "code",
   "execution_count": null,
   "id": "26aaa7b2-9e4f-473e-a2d2-85408f743bae",
   "metadata": {},
   "outputs": [],
   "source": []
  },
  {
   "cell_type": "code",
   "execution_count": null,
   "id": "850b301a-3f87-40d9-a518-be72bcf5e18b",
   "metadata": {},
   "outputs": [],
   "source": []
  },
  {
   "cell_type": "code",
   "execution_count": null,
   "id": "2b769149-b065-4a2b-b4ea-68dd99a84c74",
   "metadata": {},
   "outputs": [],
   "source": []
  },
  {
   "cell_type": "code",
   "execution_count": null,
   "id": "636e7571-f46a-4dc4-8fcd-6e3f78c32779",
   "metadata": {},
   "outputs": [],
   "source": []
  },
  {
   "cell_type": "code",
   "execution_count": null,
   "id": "9b27b1b1-f252-44da-bb38-968c4f976409",
   "metadata": {},
   "outputs": [],
   "source": []
  },
  {
   "cell_type": "code",
   "execution_count": null,
   "id": "84a966aa-4b4a-4084-9f05-570c17442cec",
   "metadata": {},
   "outputs": [],
   "source": []
  },
  {
   "cell_type": "code",
   "execution_count": null,
   "id": "57c541a0-097d-4b25-86ba-d06774df1a61",
   "metadata": {},
   "outputs": [],
   "source": []
  },
  {
   "cell_type": "code",
   "execution_count": null,
   "id": "ebb14d22-59e8-4549-81dd-121db2ca3480",
   "metadata": {},
   "outputs": [],
   "source": []
  },
  {
   "cell_type": "code",
   "execution_count": null,
   "id": "a893e494-db31-48ad-b46a-6351784d82d4",
   "metadata": {},
   "outputs": [],
   "source": []
  },
  {
   "cell_type": "code",
   "execution_count": null,
   "id": "69f9d6f7-53ee-42eb-a124-9049629bd799",
   "metadata": {},
   "outputs": [],
   "source": []
  },
  {
   "cell_type": "code",
   "execution_count": null,
   "id": "3c624c87-8ffa-4cbb-84b1-aeee83694ae4",
   "metadata": {},
   "outputs": [],
   "source": []
  },
  {
   "cell_type": "code",
   "execution_count": null,
   "id": "f8445acc-f8b2-46e7-b32e-10f6d4d1bfd7",
   "metadata": {},
   "outputs": [],
   "source": []
  },
  {
   "cell_type": "code",
   "execution_count": null,
   "id": "31cea226-c3aa-4714-818d-4ac627742d4d",
   "metadata": {},
   "outputs": [],
   "source": []
  }
 ],
 "metadata": {
  "kernelspec": {
   "display_name": "Python 3 (ipykernel)",
   "language": "python",
   "name": "python3"
  },
  "language_info": {
   "codemirror_mode": {
    "name": "ipython",
    "version": 3
   },
   "file_extension": ".py",
   "mimetype": "text/x-python",
   "name": "python",
   "nbconvert_exporter": "python",
   "pygments_lexer": "ipython3",
   "version": "3.10.4"
  }
 },
 "nbformat": 4,
 "nbformat_minor": 5
}
